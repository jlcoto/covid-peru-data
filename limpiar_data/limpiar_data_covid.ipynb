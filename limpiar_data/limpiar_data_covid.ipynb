{
 "cells": [
  {
   "cell_type": "code",
   "execution_count": 1,
   "metadata": {},
   "outputs": [],
   "source": [
    "from collections import namedtuple\n",
    "\n",
    "import numpy as np\n",
    "import pandas as pd\n",
    "import unidecode\n"
   ]
  },
  {
   "cell_type": "code",
   "execution_count": 2,
   "metadata": {},
   "outputs": [],
   "source": [
    "casos_df = pd.read_csv(\n",
    "    \"../data/original/datos_abiertos_siscovid_2020_05_22.csv\",\n",
    "    parse_dates=[\"FECHA_NACIMIENTO\", \"FECHA_PRUEBA\"],\n",
    "    encoding=\"latin\",\n",
    ")"
   ]
  },
  {
   "cell_type": "code",
   "execution_count": 3,
   "metadata": {},
   "outputs": [],
   "source": [
    "ubigeo_df = pd.read_csv(\n",
    "    \"../data/original/ubigeo_distritos.csv\", dtype={\"ubigeo\": \"string\"}\n",
    ")"
   ]
  },
  {
   "cell_type": "code",
   "execution_count": 28,
   "metadata": {},
   "outputs": [],
   "source": [
    "def col_a_minusculas(df):\n",
    "    df.columns = [col.lower() for col in df.columns]"
   ]
  },
  {
   "cell_type": "code",
   "execution_count": 31,
   "metadata": {},
   "outputs": [],
   "source": [
    "def uniformizar_data(df):\n",
    "    \"\"\"Quitar mayusculas y caracteres especiales como \n",
    "    tildes\"\"\"\n",
    "    df[[\"departamento\", \"provincia\", \"distrito\"]] = df[\n",
    "        [\"departamento\", \"provincia\", \"distrito\"]\n",
    "    ].applymap(lambda x: unidecode.unidecode(x) if isinstance(x, str) else x)\n",
    "    df[[\"sexo\", \"departamento\", \"provincia\", \"distrito\"]] = df[\n",
    "        [\"sexo\", \"departamento\", \"provincia\", \"distrito\"]\n",
    "    ].apply(lambda x: x.str.title().str.strip())\n",
    "    return df"
   ]
  },
  {
   "cell_type": "code",
   "execution_count": 44,
   "metadata": {},
   "outputs": [],
   "source": [
    "def helper_add_ubigeo(df, ubigeo_df):\n",
    "    # Ayuda para unir localiazaciones con ubigeo\n",
    "    # retorna los casos donde ubigeo no se encuentra\n",
    "    # para uniformizar la data\n",
    "    localizacion = (\n",
    "        df.groupby([\"departamento\", \"provincia\", \"distrito\"], as_index=False)\n",
    "        .count()\n",
    "        .loc[:, [\"departamento\", \"provincia\", \"distrito\"]]\n",
    "    )\n",
    "    merge_ubigeos = localizacion.merge(\n",
    "        ubigeo_df, how=\"left\", on=[\"departamento\", \"provincia\", \"distrito\"]\n",
    "    )\n",
    "    return merge_ubigeos.loc[merge_ubigeos.ubigeo.isnull()]"
   ]
  },
  {
   "cell_type": "code",
   "execution_count": 77,
   "metadata": {},
   "outputs": [],
   "source": [
    "Dcorreccion = namedtuple(\n",
    "    \"RemplazarDistrito\", [\"departamento\", \"provincia\", \"distrito\", \"cambio\"]\n",
    ")\n",
    "Pcorreccion = namedtuple(\n",
    "    \"RemplazarDepartamento\", [\"departamento\", \"provincia\", \"cambio\"]\n",
    ")\n",
    "# Casos para correcciones de diferencias entre distrito en la\n",
    "# data y distrito en nuestra base de ubigeos\n",
    "correcciones_dist = [\n",
    "    (\"Apurimac\", \"Chincheros\", \"Anco_Huallo\", \"Anco-Huallo\"),\n",
    "    (\n",
    "        \"Ayacucho\",\n",
    "        \"Huamanga\",\n",
    "        \"Andres Avelino Caceres\",\n",
    "        \"Andres Avelino Caceres Dorregaray\",\n",
    "    ),\n",
    "    (\"Huanuco\", \"Huanuco\", \"Quisqui (Kichki)\", \"Quisqui\"),\n",
    "    (\"Piura\", \"Sechura\", \"Rinconada Llicuar\", \"Rinconada-Llicuar\"),\n",
    "    (\"San Martin\", \"Picota\", \"Caspisapa\", \"Caspizapa\"),\n",
    "    (\n",
    "        \"Tacna\",\n",
    "        \"Tacna\",\n",
    "        \"Coronel Gregorio Albarracin L.\",\n",
    "        \"Coronel Gregorio Albarracin Lanchipa\",\n",
    "    ),\n",
    "    (\"Ucayali\", \"Atalaya\", \"Raymondi\", \"Raimondi\"),\n",
    "    (\n",
    "        \"Callao\",\n",
    "        \"Prov. Const. Del Callao\",\n",
    "        \"Carmen De La Legua Reynoso\",\n",
    "        \"Carmen De La Legua-Reynoso\",\n",
    "    ),\n",
    "    (\n",
    "        \"Ayacucho\",\n",
    "        \"Huamanga\",\n",
    "        \"Andres Avelino Caceres\",\n",
    "        \"Andres Avelino Caceres Dorregaray\",\n",
    "    ),\n",
    "    (\n",
    "        \"Ayacucho\",\n",
    "        \"Huamanga\",\n",
    "        \"Andres Avelino Caceres D.\",\n",
    "        \"Andres Avelino Caceres Dorregaray\",\n",
    "    ),\n",
    "    (\n",
    "        \"Tacna\",\n",
    "        \"Tacna\",\n",
    "        \"Coronel Gregorio Albarracin L.\",\n",
    "        \"Coronel Gregorio Albarracin Lanchipa\",\n",
    "    ),\n",
    "    (\n",
    "        \"Puno\",\n",
    "        \"Sandia\",\n",
    "        \"San Pedro De Putina Puncu\",\n",
    "        \"San Pedro De Putina Punco\",\n",
    "    ),\n",
    "    (\"Ica\", \"Nazca\", \"Nazca\", \"Nasca\"),\n",
    "]\n",
    "\n",
    "correcciones_prov = [\n",
    "    (\"Ica\", \"Nazca\", \"Nasca\"),\n",
    "    (\"Callao\", \"Prov. Const. Del Callao\", \"Callao\"),\n",
    "    (\"Ica\", \"Nazca\", \"Nasca\"),\n",
    "]\n",
    "\n",
    "\n",
    "def corregir_distritos(df, correcciones):\n",
    "    \"\"\"Ayuda para remover diferencias en distritos y permitir\n",
    "    mejor asociacion entre casos y ubigeo\"\"\"\n",
    "    for correccion in correcciones:\n",
    "        data_correccion = Dcorreccion(*correccion)\n",
    "        df.loc[\n",
    "            (df[\"departamento\"] == data_correccion.departamento)\n",
    "            & (df[\"provincia\"] == data_correccion.provincia)\n",
    "            & (df[\"distrito\"] == data_correccion.distrito),\n",
    "            \"distrito\",\n",
    "        ] = data_correccion.cambio\n",
    "\n",
    "\n",
    "def corregir_provincias(df, correcciones):\n",
    "    \"\"\"Ayuda para remover diferencias en provincias y permitir\n",
    "    mejor asociacion entre casos y ubigeo\"\"\"\n",
    "    for correccion in correcciones:\n",
    "        data_correccion = Pcorreccion(*correccion)\n",
    "        df.loc[\n",
    "            (df[\"departamento\"] == data_correccion.departamento)\n",
    "            & (df[\"provincia\"] == data_correccion.provincia),\n",
    "            \"provincia\",\n",
    "        ] = data_correccion.cambio"
   ]
  },
  {
   "cell_type": "code",
   "execution_count": 35,
   "metadata": {},
   "outputs": [],
   "source": [
    "# En algunos casos parece que los meses y dias se han introducido al revés\n",
    "def cambiar_a_mes_dia(columna):\n",
    "    return pd.to_datetime(columna.dt.strftime(\"%Y-%d-%m\"), format=\"%Y-%m-%d\")"
   ]
  },
  {
   "cell_type": "code",
   "execution_count": 4,
   "metadata": {
    "lines_to_next_cell": 2
   },
   "outputs": [],
   "source": [
    "# Cambiando mayusculas\n",
    "casos_df.columns = [col.lower() for col in casos_df.columns]\n",
    "casos_df[[\"sexo\", \"departamento\", \"provincia\", \"distrito\"]] = casos_df[\n",
    "    [\"sexo\", \"departamento\", \"provincia\", \"distrito\"]\n",
    "].apply(lambda x: x.str.title().str.strip())"
   ]
  },
  {
   "cell_type": "code",
   "execution_count": 5,
   "metadata": {},
   "outputs": [],
   "source": [
    "# Limpiando acentos para uniformizar data\n",
    "casos_df[[\"departamento\", \"provincia\", \"distrito\"]] = casos_df[\n",
    "    [\"departamento\", \"provincia\", \"distrito\"]\n",
    "].applymap(lambda x: unidecode.unidecode(x) if isinstance(x, str) else x)\n",
    "ubigeo_df = ubigeo_df.applymap(\n",
    "    lambda x: unidecode.unidecode(x) if isinstance(x, str) else x\n",
    ")"
   ]
  },
  {
   "cell_type": "code",
   "execution_count": 6,
   "metadata": {},
   "outputs": [],
   "source": [
    "# Casos de Callao se asigna departamento Callao\n",
    "casos_df.loc[\n",
    "    (casos_df.provincia == \"Callao\") & (casos_df.departamento == \"\"),\n",
    "    \"departamento\",\n",
    "] = \"Callao\""
   ]
  },
  {
   "cell_type": "code",
   "execution_count": 7,
   "metadata": {},
   "outputs": [],
   "source": [
    "# Ayuda para unir localiazaciones con ubigeo\n",
    "localizacion = (\n",
    "    casos_df.groupby([\"departamento\", \"provincia\", \"distrito\"], as_index=False)\n",
    "    .count()\n",
    "    .loc[:, [\"departamento\", \"provincia\", \"distrito\"]]\n",
    ")\n",
    "merge_ubigeos = localizacion.merge(\n",
    "    ubigeo_df, how=\"left\", on=[\"departamento\", \"provincia\", \"distrito\"]\n",
    ")"
   ]
  },
  {
   "cell_type": "code",
   "execution_count": 8,
   "metadata": {},
   "outputs": [],
   "source": [
    "# Correcciones en distritos y provincias para uniformizar nombres\n",
    "Dcorreccion = namedtuple(\n",
    "    \"RemplazarDistrito\", [\"departamento\", \"provincia\", \"distrito\", \"cambio\"]\n",
    ")\n",
    "Pcorreccion = namedtuple(\n",
    "    \"RemplazarDepartamento\", [\"departamento\", \"provincia\", \"cambio\"]\n",
    ")\n",
    "\n",
    "correcciones_distrito = [\n",
    "    (\"Apurimac\", \"Chincheros\", \"Anco_Huallo\", \"Anco-Huallo\"),\n",
    "    (\n",
    "        \"Ayacucho\",\n",
    "        \"Huamanga\",\n",
    "        \"Andres Avelino Caceres\",\n",
    "        \"Andres Avelino Caceres Dorregaray\",\n",
    "    ),\n",
    "    (\"Huanuco\", \"Huanuco\", \"Quisqui (Kichki)\", \"Quisqui\"),\n",
    "    (\"Piura\", \"Sechura\", \"Rinconada Llicuar\", \"Rinconada-Llicuar\"),\n",
    "    (\"San Martin\", \"Picota\", \"Caspisapa\", \"Caspizapa\"),\n",
    "    (\n",
    "        \"Tacna\",\n",
    "        \"Tacna\",\n",
    "        \"Coronel Gregorio Albarracin L.\",\n",
    "        \"Coronel Gregorio Albarracin Lanchipa\",\n",
    "    ),\n",
    "    (\"Ucayali\", \"Atalaya\", \"Raymondi\", \"Raimondi\"),\n",
    "    (\n",
    "        \"Callao\",\n",
    "        \"Prov. Const. Del Callao\",\n",
    "        \"Carmen De La Legua Reynoso\",\n",
    "        \"Carmen De La Legua-Reynoso\",\n",
    "    ),\n",
    "]\n",
    "\n",
    "\n",
    "for correccion in correcciones_distrito:\n",
    "    data_correccion = Dcorreccion(*correccion)\n",
    "    casos_df.loc[\n",
    "        (casos_df[\"departamento\"] == data_correccion.departamento)\n",
    "        & (casos_df[\"provincia\"] == data_correccion.provincia)\n",
    "        & (casos_df[\"distrito\"] == data_correccion.distrito),\n",
    "        \"distrito\",\n",
    "    ] = data_correccion.cambio\n",
    "\n",
    "\n",
    "correcciones_provincia = [\n",
    "    (\"Callao\", \"Prov. Const. Del Callao\", \"Callao\"),\n",
    "    (\"Ica\", \"Nazca\", \"Nasca\"),\n",
    "]\n",
    "\n",
    "for correccion in correcciones_provincia:\n",
    "    data_correccion = Pcorreccion(*correccion)\n",
    "    casos_df.loc[\n",
    "        (casos_df[\"departamento\"] == data_correccion.departamento)\n",
    "        & (casos_df[\"provincia\"] == data_correccion.provincia),\n",
    "        \"provincia\",\n",
    "    ] = data_correccion.cambio\n"
   ]
  },
  {
   "cell_type": "code",
   "execution_count": 9,
   "metadata": {},
   "outputs": [],
   "source": [
    "casos_df = casos_df.merge(\n",
    "    ubigeo_df, how=\"left\", on=[\"departamento\", \"provincia\", \"distrito\"]\n",
    ")"
   ]
  },
  {
   "cell_type": "code",
   "execution_count": 10,
   "metadata": {},
   "outputs": [],
   "source": [
    "duplicated_uuid = casos_df[\n",
    "    casos_df.groupby(\"uuid\")[\"uuid\"].transform(\"size\") > 1\n",
    "]"
   ]
  },
  {
   "cell_type": "code",
   "execution_count": 11,
   "metadata": {},
   "outputs": [],
   "source": [
    "# Ayudante para identificar id duplicados\n",
    "dedup = duplicated_uuid.merge(duplicated_uuid, how=\"left\", on=\"uuid\")"
   ]
  },
  {
   "cell_type": "code",
   "execution_count": 12,
   "metadata": {},
   "outputs": [],
   "source": [
    "# Algunos casos que explican duplicados e inconsistencias en data\n",
    "\n",
    "# Caso de fechas de nacimiento diferentes para mismo uuid sin missings\n",
    "comp_nacimiento = dedup[\n",
    "    (dedup.fecha_nacimiento_x.notnull())\n",
    "    & (dedup.fecha_nacimiento_x != dedup.fecha_nacimiento_y)\n",
    "]\n",
    "\n",
    "\n",
    "# Casos donde mismo id es identificado como masculino y feminino\n",
    "comp_fem_masc = dedup[\n",
    "    (dedup.sexo_x.notnull() & dedup.sexo_y.notnull())\n",
    "    & (dedup.sexo_x != dedup.sexo_y)\n",
    "]\n",
    "\n",
    "\n",
    "# Mismo id diferente departamento\n",
    "comp_dpto = dedup[\n",
    "    (dedup.departamento_x.notnull())\n",
    "    & (dedup.departamento_x != dedup.departamento_y)\n",
    "]\n",
    "\n",
    "\n",
    "# Mismo id diferente provincia\n",
    "comp_provincia = dedup[\n",
    "    (dedup.provincia_x.notnull()) & (dedup.provincia_x != dedup.provincia_y)\n",
    "]\n",
    "\n",
    "# Mismo id diferente distrito\n",
    "comp_distrito = dedup[\n",
    "    (dedup.distrito_x.notnull()) & (dedup.distrito_x != dedup.distrito_y)\n",
    "]\n",
    "\n",
    "# Mismo id diferente fecha de prueba\n",
    "comp_fecha_prueba = dedup[\n",
    "    (dedup.tipo_prueba_x.notnull())\n",
    "    & (dedup.fecha_prueba_x != dedup.fecha_prueba_y)\n",
    "]"
   ]
  },
  {
   "cell_type": "code",
   "execution_count": 13,
   "metadata": {},
   "outputs": [],
   "source": [
    "# Para limpiar casos de dobles con misma id, nos quedamos con\n",
    "# las observaciones que menos campos vacios tienen\n",
    "casos_df[\"num_vacios\"] = casos_df.isnull().sum(axis=1)\n",
    "casos_df = casos_df.sort_values(\n",
    "    by=[\"uuid\", \"num_vacios\", \"fecha_prueba\"], ascending=[True, True, False]\n",
    ")\n",
    "casos_df = casos_df.groupby([\"uuid\"], as_index=False).first()\n",
    "casos_df = casos_df.drop(columns=\"num_vacios\")\n",
    "casos_df.to_csv(\n",
    "    \"../data/limpia/data_limpia_datos_siscovid_2020_05_22.csv\", index=False\n",
    ")"
   ]
  },
  {
   "cell_type": "markdown",
   "metadata": {},
   "source": [
    "### Nueva data 2020-05-24"
   ]
  },
  {
   "cell_type": "code",
   "execution_count": 66,
   "metadata": {},
   "outputs": [],
   "source": [
    "data_05_24 = pd.read_csv(\n",
    "    \"../data/original/datos_abiertos_siscovid_2020_05_24.csv\",\n",
    "    parse_dates=[\"FECHA_RESULTADO\"],\n",
    "    encoding=\"latin\",\n",
    "    dtype={\"EDAD\": pd.Int64Dtype()},\n",
    ")\n",
    "data_05_24.columns = [col.lower() for col in data_05_24.columns]"
   ]
  },
  {
   "cell_type": "code",
   "execution_count": 67,
   "metadata": {},
   "outputs": [],
   "source": [
    "# Uniformizando minusculas y limpiando caracteres especiales\n",
    "data_05_24[[\"departamento\", \"provincia\", \"distrito\"]] = data_05_24[\n",
    "    [\"departamento\", \"provincia\", \"distrito\"]\n",
    "].applymap(lambda x: unidecode.unidecode(x) if isinstance(x, str) else x)\n",
    "data_05_24[\n",
    "    [\"sexo\", \"departamento\", \"provincia\", \"distrito\"]\n",
    "] = data_05_24[[\"sexo\", \"departamento\", \"provincia\", \"distrito\"]].apply(\n",
    "    lambda x: x.str.title().str.strip()\n",
    ")"
   ]
  },
  {
   "cell_type": "code",
   "execution_count": 68,
   "metadata": {},
   "outputs": [],
   "source": [
    "# Correcciones en distritos y provincias para uniformizar nombres\n",
    "Dcorreccion = namedtuple(\n",
    "    \"RemplazarDistrito\", [\"departamento\", \"provincia\", \"distrito\", \"cambio\"]\n",
    ")\n",
    "Pcorreccion = namedtuple(\n",
    "    \"RemplazarDepartamento\", [\"departamento\", \"provincia\", \"cambio\"]\n",
    ")\n",
    "\n",
    "correcciones_distrito = [\n",
    "    (\n",
    "        \"Ayacucho\",\n",
    "        \"Huamanga\",\n",
    "        \"Andres Avelino Caceres\",\n",
    "        \"Andres Avelino Caceres Dorregaray\",\n",
    "    ),\n",
    "    (\n",
    "        \"Ayacucho\",\n",
    "        \"Huamanga\",\n",
    "        \"Andres Avelino Caceres D.\",\n",
    "        \"Andres Avelino Caceres Dorregaray\",\n",
    "    ),\n",
    "    (\n",
    "        \"Tacna\",\n",
    "        \"Tacna\",\n",
    "        \"Coronel Gregorio Albarracin L.\",\n",
    "        \"Coronel Gregorio Albarracin Lanchipa\",\n",
    "    ),\n",
    "    (\n",
    "        \"Puno\",\n",
    "        \"Sandia\",\n",
    "        \"San Pedro De Putina Puncu\",\n",
    "        \"San Pedro De Putina Punco\",\n",
    "    ),\n",
    "    (\"Ica\", \"Nazca\", \"Nazca\", \"Nasca\"),\n",
    "]\n",
    "\n",
    "\n",
    "for correccion in correcciones_distrito:\n",
    "    data_correccion = Dcorreccion(*correccion)\n",
    "    data_05_24.loc[\n",
    "        (data_05_24[\"departamento\"] == data_correccion.departamento)\n",
    "        & (data_05_24[\"provincia\"] == data_correccion.provincia)\n",
    "        & (data_05_24[\"distrito\"] == data_correccion.distrito),\n",
    "        \"distrito\",\n",
    "    ] = data_correccion.cambio\n",
    "\n",
    "\n",
    "correcciones_provincia = [(\"Ica\", \"Nazca\", \"Nasca\")]\n",
    "\n",
    "for correccion in correcciones_provincia:\n",
    "    data_correccion = Pcorreccion(*correccion)\n",
    "    data_05_24.loc[\n",
    "        (data_05_24[\"departamento\"] == data_correccion.departamento)\n",
    "        & (data_05_24[\"provincia\"] == data_correccion.provincia),\n",
    "        \"provincia\",\n",
    "    ] = data_correccion.cambio\n",
    "\n",
    "# Convertir data Region a Lima\n",
    "data_05_24.loc[\n",
    "    data_05_24.departamento == \"Lima Region\", \"departamento\"\n",
    "] = \"Lima\"\n"
   ]
  },
  {
   "cell_type": "code",
   "execution_count": 69,
   "metadata": {},
   "outputs": [],
   "source": [
    "# Ayuda para unir localiazaciones con ubigeo\n",
    "localizacion = (\n",
    "    data_05_24.groupby(\n",
    "        [\"departamento\", \"provincia\", \"distrito\"], as_index=False\n",
    "    )\n",
    "    .count()\n",
    "    .loc[:, [\"departamento\", \"provincia\", \"distrito\"]]\n",
    ")\n",
    "merge_ubigeos = localizacion.merge(\n",
    "    ubigeo_df, how=\"left\", on=[\"departamento\", \"provincia\", \"distrito\"]\n",
    ")"
   ]
  },
  {
   "cell_type": "code",
   "execution_count": 70,
   "metadata": {},
   "outputs": [],
   "source": [
    "data_05_24 = data_05_24.merge(\n",
    "    ubigeo_df, how=\"left\", on=[\"departamento\", \"provincia\", \"distrito\"]\n",
    ")"
   ]
  },
  {
   "cell_type": "code",
   "execution_count": 71,
   "metadata": {},
   "outputs": [],
   "source": [
    "antes_primer_caso = data_05_24.fecha_resultado < \"2020-03-06\"\n",
    "posteriores_fecha_data = data_05_24.fecha_resultado > \"2020-05-24\"\n",
    "data_05_24.loc[antes_primer_caso, \"fecha_resultado\"] = cambiar_a_mes_dia(\n",
    "    data_05_24.loc[antes_primer_caso, \"fecha_resultado\"]\n",
    ")\n",
    "data_05_24.loc[\n",
    "    posteriores_fecha_data, \"fecha_resultado\"\n",
    "] = cambiar_a_mes_dia(\n",
    "    data_05_24.loc[posteriores_fecha_data, \"fecha_resultado\"]\n",
    ")\n",
    "data_05_24 = data_05_24[\n",
    "    (data_05_24.fecha_resultado >= \"2020-03-06\")\n",
    "    | (data_05_24.fecha_resultado <= \"2020-05-24\")\n",
    "    | (data_05_24.fecha_resultado.isnull())\n",
    "]"
   ]
  },
  {
   "cell_type": "code",
   "execution_count": 72,
   "metadata": {},
   "outputs": [],
   "source": [
    "data_05_24.to_csv(\n",
    "    \"../data/limpia/data_limpia_datos_siscovid_2020_05_24.csv\", index=False\n",
    ")"
   ]
  },
  {
   "cell_type": "markdown",
   "metadata": {},
   "source": [
    "### Nueva data 2020-05-26"
   ]
  },
  {
   "cell_type": "code",
   "execution_count": 73,
   "metadata": {},
   "outputs": [],
   "source": [
    "data_05_26 = pd.read_csv(\n",
    "    \"../data/original/datos_abiertos_siscovid_2020_05_26.csv\",\n",
    "    parse_dates=[\"FECHA_RESULTADO\"],\n",
    "    encoding=\"latin\",\n",
    "    dtype={\"EDAD\": pd.Int64Dtype()},\n",
    ")"
   ]
  },
  {
   "cell_type": "code",
   "execution_count": 74,
   "metadata": {},
   "outputs": [],
   "source": [
    "col_a_minusculas(data_05_26)"
   ]
  },
  {
   "cell_type": "code",
   "execution_count": 75,
   "metadata": {},
   "outputs": [],
   "source": [
    "data_05_26 = uniformizar_data(data_05_26)"
   ]
  },
  {
   "cell_type": "code",
   "execution_count": 78,
   "metadata": {},
   "outputs": [],
   "source": [
    "corregir_distritos(data_05_26, correcciones_dist)"
   ]
  },
  {
   "cell_type": "code",
   "execution_count": 79,
   "metadata": {},
   "outputs": [],
   "source": [
    "corregir_provincias(data_05_26, correcciones_prov)"
   ]
  },
  {
   "cell_type": "code",
   "execution_count": 82,
   "metadata": {},
   "outputs": [],
   "source": [
    "antes_primer_caso = data_05_26.fecha_resultado < \"2020-03-06\"\n",
    "posteriores_fecha_data = data_05_26.fecha_resultado > \"2020-05-26\"\n",
    "data_05_26.loc[antes_primer_caso, \"fecha_resultado\"] = cambiar_a_mes_dia(\n",
    "    data_05_26.loc[antes_primer_caso, \"fecha_resultado\"]\n",
    ")\n",
    "data_05_26.loc[\n",
    "    posteriores_fecha_data, \"fecha_resultado\"\n",
    "] = cambiar_a_mes_dia(\n",
    "    data_05_26.loc[posteriores_fecha_data, \"fecha_resultado\"]\n",
    ")\n",
    "data_05_26 = data_05_26[\n",
    "    (data_05_26.fecha_resultado >= \"2020-03-06\")\n",
    "    | (data_05_26.fecha_resultado <= \"2020-05-24\")\n",
    "    | (data_05_26.fecha_resultado.isnull())\n",
    "]"
   ]
  },
  {
   "cell_type": "code",
   "execution_count": 84,
   "metadata": {},
   "outputs": [],
   "source": [
    "data_05_26.to_csv(\n",
    "    \"../data/limpia/data_limpia_datos_siscovid_2020_05_26.csv\", index=False\n",
    ")"
   ]
  }
 ],
 "metadata": {
  "jupytext": {
   "encoding": "# -*- coding: utf-8 -*-",
   "formats": "ipynb,py:light"
  },
  "kernelspec": {
   "display_name": "Python 3.7.7 64-bit ('covid-hackaton': conda)",
   "language": "python",
   "name": "python37764bitcovidhackatoncondad02ba9ce9daa416ca3a7ed66f38a2896"
  },
  "language_info": {
   "codemirror_mode": {
    "name": "ipython",
    "version": 3
   },
   "file_extension": ".py",
   "mimetype": "text/x-python",
   "name": "python",
   "nbconvert_exporter": "python",
   "pygments_lexer": "ipython3",
   "version": "3.7.7"
  }
 },
 "nbformat": 4,
 "nbformat_minor": 4
}
