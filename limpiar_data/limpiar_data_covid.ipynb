{
 "cells": [
  {
   "cell_type": "code",
   "execution_count": 1,
   "metadata": {},
   "outputs": [],
   "source": [
    "from collections import namedtuple\n",
    "\n",
    "import numpy as np\n",
    "import pandas as pd\n",
    "import unidecode"
   ]
  },
  {
   "cell_type": "code",
   "execution_count": 2,
   "metadata": {},
   "outputs": [],
   "source": [
    "dateparse = lambda x: pd.datetime.strptime(x, '%Y-%m-%d')"
   ]
  },
  {
   "cell_type": "code",
   "execution_count": 7,
   "metadata": {},
   "outputs": [],
   "source": [
    "casos_df = pd.read_csv('../data/DATOSABIERTOS_SISCOVID.csv',\n",
    "                       parse_dates=['FECHA_NACIMIENTO', 'FECHA_PRUEBA'],\n",
    "                       encoding = \"latin\")"
   ]
  },
  {
   "cell_type": "code",
   "execution_count": 8,
   "metadata": {},
   "outputs": [],
   "source": [
    "ubigeo_df = pd.read_csv('../data/ubigeo.csv', dtype={'ubigeo': 'string'})"
   ]
  },
  {
   "cell_type": "code",
   "execution_count": 9,
   "metadata": {
    "lines_to_next_cell": 2
   },
   "outputs": [],
   "source": [
    "# Cambiando mayusculas\n",
    "casos_df.columns = [col.lower() for col in casos_df.columns]\n",
    "casos_df[['sexo', 'departamento', 'provincia', 'distrito']] = casos_df[['sexo',\n",
    "                                                                        'departamento',\n",
    "                                                                        'provincia',\n",
    "                                                                        'distrito']].apply(lambda x: x.str.title().str.strip())"
   ]
  },
  {
   "cell_type": "code",
   "execution_count": 10,
   "metadata": {},
   "outputs": [],
   "source": [
    "# Limpiando acentos para uniformizar data\n",
    "casos_df[['departamento', 'provincia', 'distrito']] = casos_df[['departamento', 'provincia', 'distrito']].applymap(lambda x: unidecode.unidecode(x) if isinstance(x, str) else x)\n",
    "ubigeo_df = ubigeo_df.applymap(lambda x: unidecode.unidecode(x) if isinstance(x, str) else x)"
   ]
  },
  {
   "cell_type": "code",
   "execution_count": 11,
   "metadata": {},
   "outputs": [],
   "source": [
    "# Casos de Callao se asigna departamento Callao\n",
    "casos_df.loc[(casos_df.provincia == 'Callao') & \n",
    "               (casos_df.departamento == ''), 'departamento'] = 'Callao'"
   ]
  },
  {
   "cell_type": "code",
   "execution_count": 12,
   "metadata": {},
   "outputs": [],
   "source": [
    "# Ayuda para unir localiazaciones con ubigeo\n",
    "localizacion = casos_df.groupby(['departamento', 'provincia', 'distrito'],\n",
    "                 as_index=False).count().loc[:, ['departamento', 'provincia', 'distrito']]\n",
    "merge_ubigeos = localizacion.merge(ubigeo_df, how='left',\n",
    "                   on=['departamento', 'provincia', 'distrito'])"
   ]
  },
  {
   "cell_type": "code",
   "execution_count": 13,
   "metadata": {},
   "outputs": [],
   "source": [
    "# Correcciones en distritos y provincias para uniformizar nombres\n",
    "Dcorreccion = namedtuple('RemplazarDistrito', ['departamento', 'provincia', 'distrito',  'cambio'])\n",
    "Pcorreccion = namedtuple('RemplazarDepartamento', ['departamento', 'provincia', 'cambio'])\n",
    "\n",
    "correcciones_distrito = [('Apurimac', 'Chincheros', 'Anco_Huallo', 'Anco-Huallo'),\n",
    "                         ('Ayacucho', 'Huamanga', 'Andres Avelino Caceres', 'Andres Avelino Caceres Dorregaray'),\n",
    "                         ('Huanuco', 'Huanuco', 'Quisqui (Kichki)', 'Quisqui'),\n",
    "                        ('Piura', 'Sechura', 'Rinconada Llicuar', 'Rinconada-Llicuar'),\n",
    "                        ('San Martin', 'Picota', 'Caspisapa', 'Caspizapa'),\n",
    "                        ('Tacna', 'Tacna', 'Coronel Gregorio Albarracin L.', 'Coronel Gregorio Albarracin Lanchipa'),\n",
    "                        ('Ucayali', 'Atalaya', 'Raymondi', 'Raimondi'),\n",
    "                        ('Callao', 'Prov. Const. Del Callao', 'Carmen De La Legua Reynoso', 'Carmen De La Legua-Reynoso')]\n",
    "\n",
    "\n",
    "for correccion in correcciones_distrito:\n",
    "    data_correccion = Dcorreccion(*correccion)\n",
    "    casos_df.loc[(casos_df['departamento']==data_correccion.departamento) &\n",
    "                 (casos_df['provincia']==data_correccion.provincia) &\n",
    "                (casos_df['distrito']==data_correccion.distrito), 'distrito']  = data_correccion.cambio  \n",
    "    \n",
    "    \n",
    "correcciones_provincia = [('Callao', 'Prov. Const. Del Callao', 'Callao'),\n",
    "                          ('Ica', 'Nazca', 'Nasca')]\n",
    "\n",
    "for correccion in correcciones_provincia:\n",
    "    data_correccion = Pcorreccion(*correccion)\n",
    "    casos_df.loc[(casos_df['departamento']==data_correccion.departamento) &\n",
    "                 (casos_df['provincia']==data_correccion.provincia), 'provincia']  = data_correccion.cambio  \n"
   ]
  },
  {
   "cell_type": "code",
   "execution_count": 14,
   "metadata": {},
   "outputs": [],
   "source": [
    "casos_df = casos_df.merge(ubigeo_df, how='left',\n",
    "                   on=['departamento', 'provincia', 'distrito'])"
   ]
  },
  {
   "cell_type": "code",
   "execution_count": 15,
   "metadata": {},
   "outputs": [],
   "source": [
    "duplicated_uuid = casos_df[casos_df.groupby('uuid')['uuid'].transform('size') > 1]"
   ]
  },
  {
   "cell_type": "code",
   "execution_count": 16,
   "metadata": {},
   "outputs": [],
   "source": [
    "# Ayudante para identificar id duplicados\n",
    "dedup = duplicated_uuid.merge(duplicated_uuid, how='left', on='uuid')"
   ]
  },
  {
   "cell_type": "code",
   "execution_count": 17,
   "metadata": {},
   "outputs": [],
   "source": [
    "# Algunos casos que explican duplicados e inconsistencias en data\n",
    "\n",
    "# Caso de fechas de nacimiento diferentes para mismo uuid sin missings\n",
    "comp_nacimiento = dedup[(dedup.fecha_nacimiento_x.notnull()) &(dedup.fecha_nacimiento_x != dedup.fecha_nacimiento_y)]\n",
    "\n",
    "\n",
    "# Casos donde mismo id es identificado como masculino y feminino\n",
    "comp_fem_masc = dedup[(dedup.sexo_x.notnull() & dedup.sexo_y.notnull()) & \n",
    "                       (dedup.sexo_x != dedup.sexo_y)]\n",
    "\n",
    "\n",
    "# Mismo id diferente departamento\n",
    "comp_dpto = dedup[(dedup.departamento_x.notnull()) &(dedup.departamento_x != dedup.departamento_y)]\n",
    "\n",
    "\n",
    "# Mismo id diferente provincia\n",
    "comp_provincia = dedup[(dedup.provincia_x.notnull()) & (dedup.provincia_x != dedup.provincia_y)]\n",
    "\n",
    "# Mismo id diferente distrito\n",
    "comp_distrito = dedup[(dedup.distrito_x.notnull()) &\n",
    "      (dedup.distrito_x != dedup.distrito_y) ]\n",
    "\n",
    "# Mismo id diferente fecha de prueba\n",
    "comp_fecha_prueba = dedup[(dedup.tipo_prueba_x.notnull()) &(dedup.fecha_prueba_x != dedup.fecha_prueba_y)]"
   ]
  },
  {
   "cell_type": "code",
   "execution_count": 18,
   "metadata": {},
   "outputs": [],
   "source": [
    "# Para limpiar casos de dobles con misma id, nos quedamos con\n",
    "# las observaciones que menos campos vacios tienen\n",
    "casos_df['num_vacios'] = casos_df.isnull().sum(axis=1)\n",
    "casos_df = casos_df.sort_values(by=['uuid', 'num_vacios', 'fecha_prueba'], ascending=[True, True, False])\n",
    "casos_df = casos_df.groupby(['uuid'], as_index=False).first()\n",
    "casos_df = casos_df.drop(columns='num_vacios')\n",
    "casos_df.to_csv('../data/data_limpia_datos_covid_2020_05_22.csv', index=False)"
   ]
  }
 ],
 "metadata": {
  "jupytext": {
   "formats": "ipynb,py:light"
  },
  "kernelspec": {
   "display_name": "Python 3",
   "language": "python",
   "name": "python3"
  },
  "language_info": {
   "codemirror_mode": {
    "name": "ipython",
    "version": 3
   },
   "file_extension": ".py",
   "mimetype": "text/x-python",
   "name": "python",
   "nbconvert_exporter": "python",
   "pygments_lexer": "ipython3",
   "version": "3.7.7"
  }
 },
 "nbformat": 4,
 "nbformat_minor": 4
}
