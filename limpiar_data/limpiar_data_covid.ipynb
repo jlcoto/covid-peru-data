{
 "cells": [
  {
   "cell_type": "code",
   "execution_count": 1,
   "metadata": {},
   "outputs": [],
   "source": [
    "from collections import namedtuple\n",
    "\n",
    "import numpy as np\n",
    "import pandas as pd\n",
    "import unidecode\n"
   ]
  },
  {
   "cell_type": "code",
   "execution_count": 2,
   "metadata": {},
   "outputs": [],
   "source": [
    "casos_df = pd.read_csv(\n",
    "    \"../data/original/datos_abiertos_siscovid_2020_05_22.csv\",\n",
    "    parse_dates=[\"FECHA_NACIMIENTO\", \"FECHA_PRUEBA\"],\n",
    "    encoding=\"latin\",\n",
    ")"
   ]
  },
  {
   "cell_type": "code",
   "execution_count": 3,
   "metadata": {},
   "outputs": [],
   "source": [
    "ubigeo_df = pd.read_csv(\n",
    "    \"../data/original/ubigeo_distritos.csv\", dtype={\"ubigeo\": \"string\"}\n",
    ")"
   ]
  },
  {
   "cell_type": "code",
   "execution_count": 4,
   "metadata": {
    "lines_to_next_cell": 2
   },
   "outputs": [],
   "source": [
    "# Cambiando mayusculas\n",
    "casos_df.columns = [col.lower() for col in casos_df.columns]\n",
    "casos_df[[\"sexo\", \"departamento\", \"provincia\", \"distrito\"]] = casos_df[\n",
    "    [\"sexo\", \"departamento\", \"provincia\", \"distrito\"]\n",
    "].apply(lambda x: x.str.title().str.strip())"
   ]
  },
  {
   "cell_type": "code",
   "execution_count": 5,
   "metadata": {},
   "outputs": [],
   "source": [
    "# Limpiando acentos para uniformizar data\n",
    "casos_df[[\"departamento\", \"provincia\", \"distrito\"]] = casos_df[\n",
    "    [\"departamento\", \"provincia\", \"distrito\"]\n",
    "].applymap(lambda x: unidecode.unidecode(x) if isinstance(x, str) else x)\n",
    "ubigeo_df = ubigeo_df.applymap(\n",
    "    lambda x: unidecode.unidecode(x) if isinstance(x, str) else x\n",
    ")"
   ]
  },
  {
   "cell_type": "code",
   "execution_count": 6,
   "metadata": {},
   "outputs": [],
   "source": [
    "# Casos de Callao se asigna departamento Callao\n",
    "casos_df.loc[\n",
    "    (casos_df.provincia == \"Callao\") & (casos_df.departamento == \"\"),\n",
    "    \"departamento\",\n",
    "] = \"Callao\""
   ]
  },
  {
   "cell_type": "code",
   "execution_count": 7,
   "metadata": {},
   "outputs": [],
   "source": [
    "# Ayuda para unir localiazaciones con ubigeo\n",
    "localizacion = (\n",
    "    casos_df.groupby([\"departamento\", \"provincia\", \"distrito\"], as_index=False)\n",
    "    .count()\n",
    "    .loc[:, [\"departamento\", \"provincia\", \"distrito\"]]\n",
    ")\n",
    "merge_ubigeos = localizacion.merge(\n",
    "    ubigeo_df, how=\"left\", on=[\"departamento\", \"provincia\", \"distrito\"]\n",
    ")"
   ]
  },
  {
   "cell_type": "code",
   "execution_count": 8,
   "metadata": {},
   "outputs": [],
   "source": [
    "# Correcciones en distritos y provincias para uniformizar nombres\n",
    "Dcorreccion = namedtuple(\n",
    "    \"RemplazarDistrito\", [\"departamento\", \"provincia\", \"distrito\", \"cambio\"]\n",
    ")\n",
    "Pcorreccion = namedtuple(\n",
    "    \"RemplazarDepartamento\", [\"departamento\", \"provincia\", \"cambio\"]\n",
    ")\n",
    "\n",
    "correcciones_distrito = [\n",
    "    (\"Apurimac\", \"Chincheros\", \"Anco_Huallo\", \"Anco-Huallo\"),\n",
    "    (\n",
    "        \"Ayacucho\",\n",
    "        \"Huamanga\",\n",
    "        \"Andres Avelino Caceres\",\n",
    "        \"Andres Avelino Caceres Dorregaray\",\n",
    "    ),\n",
    "    (\"Huanuco\", \"Huanuco\", \"Quisqui (Kichki)\", \"Quisqui\"),\n",
    "    (\"Piura\", \"Sechura\", \"Rinconada Llicuar\", \"Rinconada-Llicuar\"),\n",
    "    (\"San Martin\", \"Picota\", \"Caspisapa\", \"Caspizapa\"),\n",
    "    (\n",
    "        \"Tacna\",\n",
    "        \"Tacna\",\n",
    "        \"Coronel Gregorio Albarracin L.\",\n",
    "        \"Coronel Gregorio Albarracin Lanchipa\",\n",
    "    ),\n",
    "    (\"Ucayali\", \"Atalaya\", \"Raymondi\", \"Raimondi\"),\n",
    "    (\n",
    "        \"Callao\",\n",
    "        \"Prov. Const. Del Callao\",\n",
    "        \"Carmen De La Legua Reynoso\",\n",
    "        \"Carmen De La Legua-Reynoso\",\n",
    "    ),\n",
    "]\n",
    "\n",
    "\n",
    "for correccion in correcciones_distrito:\n",
    "    data_correccion = Dcorreccion(*correccion)\n",
    "    casos_df.loc[\n",
    "        (casos_df[\"departamento\"] == data_correccion.departamento)\n",
    "        & (casos_df[\"provincia\"] == data_correccion.provincia)\n",
    "        & (casos_df[\"distrito\"] == data_correccion.distrito),\n",
    "        \"distrito\",\n",
    "    ] = data_correccion.cambio\n",
    "\n",
    "\n",
    "correcciones_provincia = [\n",
    "    (\"Callao\", \"Prov. Const. Del Callao\", \"Callao\"),\n",
    "    (\"Ica\", \"Nazca\", \"Nasca\"),\n",
    "]\n",
    "\n",
    "for correccion in correcciones_provincia:\n",
    "    data_correccion = Pcorreccion(*correccion)\n",
    "    casos_df.loc[\n",
    "        (casos_df[\"departamento\"] == data_correccion.departamento)\n",
    "        & (casos_df[\"provincia\"] == data_correccion.provincia),\n",
    "        \"provincia\",\n",
    "    ] = data_correccion.cambio\n"
   ]
  },
  {
   "cell_type": "code",
   "execution_count": 9,
   "metadata": {},
   "outputs": [],
   "source": [
    "casos_df = casos_df.merge(\n",
    "    ubigeo_df, how=\"left\", on=[\"departamento\", \"provincia\", \"distrito\"]\n",
    ")"
   ]
  },
  {
   "cell_type": "code",
   "execution_count": 10,
   "metadata": {},
   "outputs": [],
   "source": [
    "duplicated_uuid = casos_df[\n",
    "    casos_df.groupby(\"uuid\")[\"uuid\"].transform(\"size\") > 1\n",
    "]"
   ]
  },
  {
   "cell_type": "code",
   "execution_count": 11,
   "metadata": {},
   "outputs": [],
   "source": [
    "# Ayudante para identificar id duplicados\n",
    "dedup = duplicated_uuid.merge(duplicated_uuid, how=\"left\", on=\"uuid\")"
   ]
  },
  {
   "cell_type": "code",
   "execution_count": 12,
   "metadata": {},
   "outputs": [],
   "source": [
    "# Algunos casos que explican duplicados e inconsistencias en data\n",
    "\n",
    "# Caso de fechas de nacimiento diferentes para mismo uuid sin missings\n",
    "comp_nacimiento = dedup[\n",
    "    (dedup.fecha_nacimiento_x.notnull())\n",
    "    & (dedup.fecha_nacimiento_x != dedup.fecha_nacimiento_y)\n",
    "]\n",
    "\n",
    "\n",
    "# Casos donde mismo id es identificado como masculino y feminino\n",
    "comp_fem_masc = dedup[\n",
    "    (dedup.sexo_x.notnull() & dedup.sexo_y.notnull())\n",
    "    & (dedup.sexo_x != dedup.sexo_y)\n",
    "]\n",
    "\n",
    "\n",
    "# Mismo id diferente departamento\n",
    "comp_dpto = dedup[\n",
    "    (dedup.departamento_x.notnull())\n",
    "    & (dedup.departamento_x != dedup.departamento_y)\n",
    "]\n",
    "\n",
    "\n",
    "# Mismo id diferente provincia\n",
    "comp_provincia = dedup[\n",
    "    (dedup.provincia_x.notnull()) & (dedup.provincia_x != dedup.provincia_y)\n",
    "]\n",
    "\n",
    "# Mismo id diferente distrito\n",
    "comp_distrito = dedup[\n",
    "    (dedup.distrito_x.notnull()) & (dedup.distrito_x != dedup.distrito_y)\n",
    "]\n",
    "\n",
    "# Mismo id diferente fecha de prueba\n",
    "comp_fecha_prueba = dedup[\n",
    "    (dedup.tipo_prueba_x.notnull())\n",
    "    & (dedup.fecha_prueba_x != dedup.fecha_prueba_y)\n",
    "]"
   ]
  },
  {
   "cell_type": "code",
   "execution_count": 13,
   "metadata": {},
   "outputs": [],
   "source": [
    "# Para limpiar casos de dobles con misma id, nos quedamos con\n",
    "# las observaciones que menos campos vacios tienen\n",
    "casos_df[\"num_vacios\"] = casos_df.isnull().sum(axis=1)\n",
    "casos_df = casos_df.sort_values(\n",
    "    by=[\"uuid\", \"num_vacios\", \"fecha_prueba\"], ascending=[True, True, False]\n",
    ")\n",
    "casos_df = casos_df.groupby([\"uuid\"], as_index=False).first()\n",
    "casos_df = casos_df.drop(columns=\"num_vacios\")\n",
    "casos_df.to_csv(\n",
    "    \"../data/limpia/data_limpia_datos_siscovid_2020_05_22.csv\", index=False\n",
    ")"
   ]
  },
  {
   "cell_type": "markdown",
   "metadata": {},
   "source": [
    "### Nueva data 2020-05-24"
   ]
  },
  {
   "cell_type": "code",
   "execution_count": 14,
   "metadata": {},
   "outputs": [],
   "source": [
    "new_covid_data = pd.read_csv(\n",
    "    \"../data/original/datos_abiertos_siscovid_2020_05_24.csv\",\n",
    "    parse_dates=[\"FECHA_RESULTADO\"],\n",
    "    encoding=\"latin\",\n",
    "    dtype={\"EDAD\": pd.Int64Dtype()},\n",
    ")\n",
    "new_covid_data.columns = [col.lower() for col in new_covid_data.columns]"
   ]
  },
  {
   "cell_type": "code",
   "execution_count": 15,
   "metadata": {},
   "outputs": [],
   "source": [
    "# Uniformizando minusculas y limpiando caracteres especiales\n",
    "new_covid_data[[\"departamento\", \"provincia\", \"distrito\"]] = new_covid_data[\n",
    "    [\"departamento\", \"provincia\", \"distrito\"]\n",
    "].applymap(lambda x: unidecode.unidecode(x) if isinstance(x, str) else x)\n",
    "new_covid_data[\n",
    "    [\"sexo\", \"departamento\", \"provincia\", \"distrito\"]\n",
    "] = new_covid_data[[\"sexo\", \"departamento\", \"provincia\", \"distrito\"]].apply(\n",
    "    lambda x: x.str.title().str.strip()\n",
    ")"
   ]
  },
  {
   "cell_type": "code",
   "execution_count": 16,
   "metadata": {},
   "outputs": [],
   "source": [
    "# Correcciones en distritos y provincias para uniformizar nombres\n",
    "Dcorreccion = namedtuple(\n",
    "    \"RemplazarDistrito\", [\"departamento\", \"provincia\", \"distrito\", \"cambio\"]\n",
    ")\n",
    "Pcorreccion = namedtuple(\n",
    "    \"RemplazarDepartamento\", [\"departamento\", \"provincia\", \"cambio\"]\n",
    ")\n",
    "\n",
    "correcciones_distrito = [\n",
    "    (\n",
    "        \"Ayacucho\",\n",
    "        \"Huamanga\",\n",
    "        \"Andres Avelino Caceres\",\n",
    "        \"Andres Avelino Caceres Dorregaray\",\n",
    "    ),\n",
    "    (\n",
    "        \"Ayacucho\",\n",
    "        \"Huamanga\",\n",
    "        \"Andres Avelino Caceres D.\",\n",
    "        \"Andres Avelino Caceres Dorregaray\",\n",
    "    ),\n",
    "    (\n",
    "        \"Tacna\",\n",
    "        \"Tacna\",\n",
    "        \"Coronel Gregorio Albarracin L.\",\n",
    "        \"Coronel Gregorio Albarracin Lanchipa\",\n",
    "    ),\n",
    "    (\n",
    "        \"Puno\",\n",
    "        \"Sandia\",\n",
    "        \"San Pedro De Putina Puncu\",\n",
    "        \"San Pedro De Putina Punco\",\n",
    "    ),\n",
    "    (\"Ica\", \"Nazca\", \"Nazca\", \"Nasca\"),\n",
    "]\n",
    "\n",
    "\n",
    "for correccion in correcciones_distrito:\n",
    "    data_correccion = Dcorreccion(*correccion)\n",
    "    new_covid_data.loc[\n",
    "        (new_covid_data[\"departamento\"] == data_correccion.departamento)\n",
    "        & (new_covid_data[\"provincia\"] == data_correccion.provincia)\n",
    "        & (new_covid_data[\"distrito\"] == data_correccion.distrito),\n",
    "        \"distrito\",\n",
    "    ] = data_correccion.cambio\n",
    "\n",
    "\n",
    "correcciones_provincia = [(\"Ica\", \"Nazca\", \"Nasca\")]\n",
    "\n",
    "for correccion in correcciones_provincia:\n",
    "    data_correccion = Pcorreccion(*correccion)\n",
    "    new_covid_data.loc[\n",
    "        (new_covid_data[\"departamento\"] == data_correccion.departamento)\n",
    "        & (new_covid_data[\"provincia\"] == data_correccion.provincia),\n",
    "        \"provincia\",\n",
    "    ] = data_correccion.cambio\n",
    "\n",
    "# Convertir data Region a Lima\n",
    "new_covid_data.loc[new_covid_data.departamento == 'Lima Region', 'departamento'] = 'Lima'\n"
   ]
  },
  {
   "cell_type": "code",
   "execution_count": 17,
   "metadata": {},
   "outputs": [],
   "source": [
    "# Ayuda para unir localiazaciones con ubigeo\n",
    "localizacion = (\n",
    "    new_covid_data.groupby(\n",
    "        [\"departamento\", \"provincia\", \"distrito\"], as_index=False\n",
    "    )\n",
    "    .count()\n",
    "    .loc[:, [\"departamento\", \"provincia\", \"distrito\"]]\n",
    ")\n",
    "merge_ubigeos = localizacion.merge(\n",
    "    ubigeo_df, how=\"left\", on=[\"departamento\", \"provincia\", \"distrito\"]\n",
    ")"
   ]
  },
  {
   "cell_type": "code",
   "execution_count": 18,
   "metadata": {},
   "outputs": [],
   "source": [
    "merge_ubigeos = localizacion.merge(\n",
    "    ubigeo_df, how=\"left\", on=[\"departamento\", \"provincia\", \"distrito\"]\n",
    ")"
   ]
  },
  {
   "cell_type": "code",
   "execution_count": 19,
   "metadata": {},
   "outputs": [
    {
     "ename": "NameError",
     "evalue": "name 'data_24' is not defined",
     "output_type": "error",
     "traceback": [
      "\u001b[0;31m---------------------------------------------------------------------------\u001b[0m",
      "\u001b[0;31mNameError\u001b[0m                                 Traceback (most recent call last)",
      "\u001b[0;32m<ipython-input-19-f57c70c88cb4>\u001b[0m in \u001b[0;36m<module>\u001b[0;34m\u001b[0m\n\u001b[1;32m      3\u001b[0m     \u001b[0;32mreturn\u001b[0m \u001b[0mpd\u001b[0m\u001b[0;34m.\u001b[0m\u001b[0mto_datetime\u001b[0m\u001b[0;34m(\u001b[0m\u001b[0mcolumna\u001b[0m\u001b[0;34m.\u001b[0m\u001b[0mdt\u001b[0m\u001b[0;34m.\u001b[0m\u001b[0mstrftime\u001b[0m\u001b[0;34m(\u001b[0m\u001b[0;34m'%Y-%d-%m'\u001b[0m\u001b[0;34m)\u001b[0m\u001b[0;34m,\u001b[0m \u001b[0mformat\u001b[0m\u001b[0;34m=\u001b[0m\u001b[0;34m'%Y-%m-%d'\u001b[0m\u001b[0;34m)\u001b[0m\u001b[0;34m\u001b[0m\u001b[0;34m\u001b[0m\u001b[0m\n\u001b[1;32m      4\u001b[0m \u001b[0;34m\u001b[0m\u001b[0m\n\u001b[0;32m----> 5\u001b[0;31m \u001b[0mantes_primer_caso\u001b[0m \u001b[0;34m=\u001b[0m \u001b[0mdata_24\u001b[0m\u001b[0;34m.\u001b[0m\u001b[0mfecha_resultado\u001b[0m \u001b[0;34m<\u001b[0m \u001b[0;34m'2020-03-06'\u001b[0m\u001b[0;34m\u001b[0m\u001b[0;34m\u001b[0m\u001b[0m\n\u001b[0m\u001b[1;32m      6\u001b[0m \u001b[0mposteriores_fecha_data\u001b[0m \u001b[0;34m=\u001b[0m \u001b[0mdata_24\u001b[0m\u001b[0;34m.\u001b[0m\u001b[0mfecha_resultado\u001b[0m \u001b[0;34m>\u001b[0m \u001b[0;34m'2020-05-24'\u001b[0m\u001b[0;34m\u001b[0m\u001b[0;34m\u001b[0m\u001b[0m\n\u001b[1;32m      7\u001b[0m \u001b[0mdata_24\u001b[0m\u001b[0;34m.\u001b[0m\u001b[0mloc\u001b[0m\u001b[0;34m[\u001b[0m\u001b[0mantes_primer_caso\u001b[0m\u001b[0;34m,\u001b[0m \u001b[0;34m'fecha_resultado'\u001b[0m\u001b[0;34m]\u001b[0m \u001b[0;34m=\u001b[0m \u001b[0mcambiar_a_mes_dia\u001b[0m\u001b[0;34m(\u001b[0m\u001b[0mdata_24\u001b[0m\u001b[0;34m.\u001b[0m\u001b[0mloc\u001b[0m\u001b[0;34m[\u001b[0m\u001b[0mantes_primer_caso\u001b[0m\u001b[0;34m,\u001b[0m \u001b[0;34m'fecha_resultado'\u001b[0m\u001b[0;34m]\u001b[0m\u001b[0;34m)\u001b[0m\u001b[0;34m\u001b[0m\u001b[0;34m\u001b[0m\u001b[0m\n",
      "\u001b[0;31mNameError\u001b[0m: name 'data_24' is not defined"
     ]
    }
   ],
   "source": [
    "# En algunos casos parece que los meses y dias se han introducido al revés\n",
    "def cambiar_a_mes_dia(columna):\n",
    "    return pd.to_datetime(columna.dt.strftime('%Y-%d-%m'), format='%Y-%m-%d')\n",
    "\n",
    "antes_primer_caso = new_covid_data.fecha_resultado < '2020-03-06'\n",
    "posteriores_fecha_data = new_covid_data.fecha_resultado > '2020-05-24'\n",
    "new_covid_data.loc[antes_primer_caso, 'fecha_resultado'] = cambiar_a_mes_dia(new_covid_data.loc[antes_primer_caso, 'fecha_resultado'])\n",
    "new_covid_data.loc[posteriores_fecha_data, 'fecha_resultado'] = cambiar_a_mes_dia(new_covid_data.loc[posteriores_fecha_data, 'fecha_resultado'])\n",
    "new_covid_data = new_covid_data[(data_24.fecha_resultado >= '2020-03-06') | (data_24.fecha_resultado <= '2020-05-24') |\n",
    "       (data_24.fecha_resultado.isnull())]"
   ]
  },
  {
   "cell_type": "code",
   "execution_count": null,
   "metadata": {},
   "outputs": [],
   "source": [
    "new_covid_data.to_csv(\n",
    "    \"../data/limpia/data_limpia_datos_siscovid_2020_05_24.csv\", index=False\n",
    ")"
   ]
  }
 ],
 "metadata": {
  "jupytext": {
   "formats": "ipynb,py:light"
  },
  "kernelspec": {
   "display_name": "Python 3.7.7 64-bit ('covid-hackaton': conda)",
   "language": "python",
   "name": "python37764bitcovidhackatoncondad02ba9ce9daa416ca3a7ed66f38a2896"
  },
  "language_info": {
   "codemirror_mode": {
    "name": "ipython",
    "version": 3
   },
   "file_extension": ".py",
   "mimetype": "text/x-python",
   "name": "python",
   "nbconvert_exporter": "python",
   "pygments_lexer": "ipython3",
   "version": "3.7.7"
  }
 },
 "nbformat": 4,
 "nbformat_minor": 4
}
